{
  "nbformat": 4,
  "nbformat_minor": 0,
  "metadata": {
    "colab": {
      "provenance": [],
      "authorship_tag": "ABX9TyN8QZ0weBz+tryWtBKzCAA5",
      "include_colab_link": true
    },
    "kernelspec": {
      "name": "python3",
      "display_name": "Python 3"
    },
    "language_info": {
      "name": "python"
    }
  },
  "cells": [
    {
      "cell_type": "markdown",
      "metadata": {
        "id": "view-in-github",
        "colab_type": "text"
      },
      "source": [
        "<a href=\"https://colab.research.google.com/github/Edinsonnieto/Estadistica/blob/main/funcbsasicas1.ipynb\" target=\"_parent\"><img src=\"https://colab.research.google.com/assets/colab-badge.svg\" alt=\"Open In Colab\"/></a>"
      ]
    },
    {
      "cell_type": "code",
      "execution_count": 1,
      "metadata": {
        "id": "zKeJ8a7CxLlH"
      },
      "outputs": [],
      "source": [
        "import numpy as np\n",
        "import pandas as pd\n",
        "from sklearn.model_selection import train_test_split\n",
        "from sklearn.linear_model import LogisticRegression\n",
        "from sklearn.metrics import accuracy_score"
      ]
    },
    {
      "cell_type": "code",
      "source": [
        "\"Hola\"\n"
      ],
      "metadata": {
        "colab": {
          "base_uri": "https://localhost:8080/",
          "height": 35
        },
        "id": "lpRvgBuOxoTv",
        "outputId": "c7a465e1-8b45-4eb5-8373-8f8c0bee25b7"
      },
      "execution_count": 2,
      "outputs": [
        {
          "output_type": "execute_result",
          "data": {
            "text/plain": [
              "'Hola'"
            ],
            "application/vnd.google.colaboratory.intrinsic+json": {
              "type": "string"
            }
          },
          "metadata": {},
          "execution_count": 2
        }
      ]
    },
    {
      "cell_type": "code",
      "source": [
        "print(\"Hola impreso con el comando print\")"
      ],
      "metadata": {
        "colab": {
          "base_uri": "https://localhost:8080/"
        },
        "id": "fJ1qzWsyx5Aj",
        "outputId": "1c5260bc-e148-4183-c012-4df7b4356272"
      },
      "execution_count": 4,
      "outputs": [
        {
          "output_type": "stream",
          "name": "stdout",
          "text": [
            "Hola impreso con el comando print\n"
          ]
        }
      ]
    },
    {
      "cell_type": "code",
      "source": [
        "\"Ahora Hola, sin el comando print, pero sin olvidar las comillas\"\n"
      ],
      "metadata": {
        "colab": {
          "base_uri": "https://localhost:8080/",
          "height": 35
        },
        "id": "8AuIm0usyViX",
        "outputId": "09ba5368-e343-434b-edce-65c85926c9c5"
      },
      "execution_count": 6,
      "outputs": [
        {
          "output_type": "execute_result",
          "data": {
            "text/plain": [
              "'Ahora Hola, sin el comando print, pero sin olvidar las comillas'"
            ],
            "application/vnd.google.colaboratory.intrinsic+json": {
              "type": "string"
            }
          },
          "metadata": {},
          "execution_count": 6
        }
      ]
    },
    {
      "cell_type": "code",
      "source": [
        "edad = 25\n",
        "print(f\"volver en el tiempo para tener de nuevo {edad}\")"
      ],
      "metadata": {
        "colab": {
          "base_uri": "https://localhost:8080/"
        },
        "id": "LnllFoP1yqRP",
        "outputId": "11e12c09-5112-4671-a770-87e0038229f4"
      },
      "execution_count": 15,
      "outputs": [
        {
          "output_type": "stream",
          "name": "stdout",
          "text": [
            "volver en el tiempo para tener de nuevo 25\n"
          ]
        }
      ]
    },
    {
      "cell_type": "code",
      "source": [
        "Nombre = \"Edinson Nieto\"\n",
        "print(f\"Hola mi nombre es {Nombre}\")\n",
        "print(f\"y tengo {edad} años\")"
      ],
      "metadata": {
        "colab": {
          "base_uri": "https://localhost:8080/"
        },
        "id": "K34dWTFU0Y4e",
        "outputId": "9d019eb6-2f08-41e8-82df-c301bf8e9301"
      },
      "execution_count": 20,
      "outputs": [
        {
          "output_type": "stream",
          "name": "stdout",
          "text": [
            "Hola mi nombre es Edinson Nieto\n",
            "y tengo 25 años\n"
          ]
        }
      ]
    },
    {
      "cell_type": "code",
      "source": [
        "email = \"enieto10@yahoo.com\"\n",
        "ciudad = \"Barranquilla\"\n",
        "print(f\"Saludos, mi nombre es {Nombre}, tengo {edad} años y vivo en la de {ciudad} y mi email es {email}\")"
      ],
      "metadata": {
        "colab": {
          "base_uri": "https://localhost:8080/"
        },
        "id": "eUAHIhOM1she",
        "outputId": "4373a088-03a7-4365-d08e-3592d6611205"
      },
      "execution_count": 21,
      "outputs": [
        {
          "output_type": "stream",
          "name": "stdout",
          "text": [
            "Saludos, mi nombre es Edinson Nieto, tengo 25 años y vivo en la de Barranquilla y mi email es enieto10@yahoo.com\n"
          ]
        }
      ]
    },
    {
      "cell_type": "code",
      "source": [
        "a = input(\"Ingrese su nombre\")\n",
        "b = int(input(\"Ingrese su edad\"))\n",
        "c = float(input(\"Ingrese su altura en metros\"))\n",
        "d = float(input(\"Ingrese su peso en kg\"))\n",
        "print(f\"Hola {a}, su edad es {b}, su altura es {c} y su peso es {d}\")"
      ],
      "metadata": {
        "colab": {
          "base_uri": "https://localhost:8080/"
        },
        "id": "q9-dLgmn3tbT",
        "outputId": "5c6c301e-b07d-461c-851a-c40f9df1f687"
      },
      "execution_count": 24,
      "outputs": [
        {
          "output_type": "stream",
          "name": "stdout",
          "text": [
            "Ingrese su nombreEDINSON NIETO\n",
            "Ingrese su edad53\n",
            "Ingrese su altura en metros1.80\n",
            "Ingrese su peso en kg50\n",
            "Hola EDINSON NIETO, su edad es 53, su altura es 1.8 y su peso es 50.0\n"
          ]
        }
      ]
    },
    {
      "cell_type": "code",
      "source": [
        "A = int(input(\"Ingrese el primer número\"))\n",
        "B = int(input(\"Ingrese el segundo número\"))\n",
        "print(f\"La suma de {A} + {B}  = {A+B}\")"
      ],
      "metadata": {
        "colab": {
          "base_uri": "https://localhost:8080/"
        },
        "id": "19UwcmhM5fAB",
        "outputId": "da065c36-698a-416b-8177-9642dc0e2d6d"
      },
      "execution_count": 30,
      "outputs": [
        {
          "output_type": "stream",
          "name": "stdout",
          "text": [
            "Ingrese el primer número1\n",
            "Ingrese el segundo número5\n",
            "La suma de 1 + 5  = 6\n"
          ]
        }
      ]
    },
    {
      "cell_type": "code",
      "source": [
        "# con la funcion .upper() se pasa un texto a MAYUSCULA, Solo basta con colocarla al final\n",
        "\"edinson nieto\".upper()"
      ],
      "metadata": {
        "colab": {
          "base_uri": "https://localhost:8080/",
          "height": 35
        },
        "id": "JaESKAgm8aun",
        "outputId": "9924a421-21b7-434e-d370-0261906846a4"
      },
      "execution_count": 31,
      "outputs": [
        {
          "output_type": "execute_result",
          "data": {
            "text/plain": [
              "'EDINSON NIETO'"
            ],
            "application/vnd.google.colaboratory.intrinsic+json": {
              "type": "string"
            }
          },
          "metadata": {},
          "execution_count": 31
        }
      ]
    },
    {
      "cell_type": "code",
      "source": [
        "# lo contrario sucede con la función .lower() convierte MAYUSCULAS  EN minusculas, solo colocandolas al final\n",
        "\"EDINSON NIETO\".lower()"
      ],
      "metadata": {
        "colab": {
          "base_uri": "https://localhost:8080/",
          "height": 35
        },
        "id": "Fpp5mBWq85IB",
        "outputId": "449e35bb-653c-47d3-98cb-9ef34a7ab97d"
      },
      "execution_count": 32,
      "outputs": [
        {
          "output_type": "execute_result",
          "data": {
            "text/plain": [
              "'edinson nieto'"
            ],
            "application/vnd.google.colaboratory.intrinsic+json": {
              "type": "string"
            }
          },
          "metadata": {},
          "execution_count": 32
        }
      ]
    },
    {
      "cell_type": "code",
      "source": [
        "# para pasar solo las primeras letras de minusculas  a MAYUSCULAS se utiliza la función .title()\n",
        "ciudad = \"barranquilla, cartagena, sincelejo, santa martha, monteria rio de janeiro\"\n",
        "ciudad.title()"
      ],
      "metadata": {
        "colab": {
          "base_uri": "https://localhost:8080/",
          "height": 35
        },
        "id": "QdjwYgqx5CM_",
        "outputId": "b5197230-f7f6-465f-8627-1c3bae23d45f"
      },
      "execution_count": 34,
      "outputs": [
        {
          "output_type": "execute_result",
          "data": {
            "text/plain": [
              "'Barranquilla, Cartagena, Sincelejo, Santa Martha, Monteria Rio De Janeiro'"
            ],
            "application/vnd.google.colaboratory.intrinsic+json": {
              "type": "string"
            }
          },
          "metadata": {},
          "execution_count": 34
        }
      ]
    },
    {
      "cell_type": "code",
      "source": [
        "# Para contar el número específico de letras usamos el comando .count()\n",
        "print(ciudad.count(\"a\")),print(ciudad.count(\"r\")),print(ciudad.count(\"e\")),print(ciudad.count(\"i\")),print(ciudad.count(\"o\"))"
      ],
      "metadata": {
        "colab": {
          "base_uri": "https://localhost:8080/"
        },
        "id": "XhSFzI8X83qL",
        "outputId": "f53d3f80-853d-46b5-cc9f-e830940e792b"
      },
      "execution_count": 41,
      "outputs": [
        {
          "output_type": "stream",
          "name": "stdout",
          "text": [
            "12\n",
            "7\n",
            "6\n",
            "5\n",
            "4\n"
          ]
        },
        {
          "output_type": "execute_result",
          "data": {
            "text/plain": [
              "(None, None, None, None, None)"
            ]
          },
          "metadata": {},
          "execution_count": 41
        }
      ]
    },
    {
      "cell_type": "code",
      "source": [
        "#  quiero haceer un programa que me cuente todas las letras de una frace o un parrafo.\n",
        "# para eso debo primero saber cuales son las letras del alfabeto que voy a encontratar en el parrafo\n",
        "alfabeto = \"abcdefghijklñmnopqrstuvwxyz\"\n",
        "print(alfabeto)\n",
        "\n",
        "\n"
      ],
      "metadata": {
        "colab": {
          "base_uri": "https://localhost:8080/"
        },
        "id": "3NlEm_GWDHkj",
        "outputId": "763e7f97-a1f9-4729-deaa-ee44abf4d13f"
      },
      "execution_count": 42,
      "outputs": [
        {
          "output_type": "stream",
          "name": "stdout",
          "text": [
            "abcdefghijklñmnopqrstuvwxyz\n"
          ]
        }
      ]
    },
    {
      "cell_type": "code",
      "source": [
        "# la frase o el parrafo del texto a analizar\n",
        "parrafo = \"La ciencia de datos es un campo académico interdisciplinario que utiliza estadística, computación científica, métodos, procesos, algoritmos y sistemas científicos para obtener (recolectar o extraer), tratar, analizar y presentar informes a partir de datos ruidosos, estructurados y no estructurados.\"\n",
        "print(parrafo)"
      ],
      "metadata": {
        "colab": {
          "base_uri": "https://localhost:8080/"
        },
        "id": "TTzBULUMEWew",
        "outputId": "d293bfe4-4b06-4cad-8fcc-92f8312766a0"
      },
      "execution_count": 43,
      "outputs": [
        {
          "output_type": "stream",
          "name": "stdout",
          "text": [
            "La ciencia de datos es un campo académico interdisciplinario que utiliza estadística, computación científica, métodos, procesos, algoritmos y sistemas científicos para obtener (recolectar o extraer), tratar, analizar y presentar informes a partir de datos ruidosos, estructurados y no estructurados.\n"
          ]
        }
      ]
    },
    {
      "cell_type": "code",
      "source": [
        "# como las frases y los parrafors tiene menos letras en MAYUSCULAS que minusculas, procedemos a convertir todas las letras del parrafo o frase en minusculas con la función .lower()\n",
        "# imprimimos para corroborar\n",
        "parrafominuscula = parrafo.lower()\n",
        "print(parrafominuscula)\n",
        ""
      ],
      "metadata": {
        "colab": {
          "base_uri": "https://localhost:8080/"
        },
        "id": "Y9wedE16E2IP",
        "outputId": "aa5a90a0-d7f8-4591-df33-7b77f0a7d1b2"
      },
      "execution_count": 44,
      "outputs": [
        {
          "output_type": "stream",
          "name": "stdout",
          "text": [
            "la ciencia de datos es un campo académico interdisciplinario que utiliza estadística, computación científica, métodos, procesos, algoritmos y sistemas científicos para obtener (recolectar o extraer), tratar, analizar y presentar informes a partir de datos ruidosos, estructurados y no estructurados.\n"
          ]
        }
      ]
    },
    {
      "cell_type": "code",
      "source": [
        "# inicializamos una variable  contador llamada letra en cero\n",
        "contador = {letra: 0 for letra in alfabeto}\n",
        "print(contador)\n"
      ],
      "metadata": {
        "colab": {
          "base_uri": "https://localhost:8080/"
        },
        "id": "RLQ9pLDcF31_",
        "outputId": "3d910ca2-6666-48bb-d007-09da8831cb1d"
      },
      "execution_count": 50,
      "outputs": [
        {
          "output_type": "stream",
          "name": "stdout",
          "text": [
            "{'a': 0, 'b': 0, 'c': 0, 'd': 0, 'e': 0, 'f': 0, 'g': 0, 'h': 0, 'i': 0, 'j': 0, 'k': 0, 'l': 0, 'ñ': 0, 'm': 0, 'n': 0, 'o': 0, 'p': 0, 'q': 0, 'r': 0, 's': 0, 't': 0, 'u': 0, 'v': 0, 'w': 0, 'x': 0, 'y': 0, 'z': 0}\n"
          ]
        }
      ]
    },
    {
      "cell_type": "code",
      "source": [
        "# ahora procedemos a realizar el conteo en el parrafo o frase que tenemos todo en minusculas\n",
        "# realizamos el conteo con la función .letra()\n",
        "for letra in alfabeto:\n",
        "    print(letra, parrafominuscula.count(letra))"
      ],
      "metadata": {
        "colab": {
          "base_uri": "https://localhost:8080/"
        },
        "id": "faceaXyKK668",
        "outputId": "014c3911-4126-4fd3-c93e-c8c50934992b"
      },
      "execution_count": 51,
      "outputs": [
        {
          "output_type": "stream",
          "name": "stdout",
          "text": [
            "a 29\n",
            "b 1\n",
            "c 18\n",
            "d 11\n",
            "e 22\n",
            "f 3\n",
            "g 1\n",
            "h 0\n",
            "i 22\n",
            "j 0\n",
            "k 0\n",
            "l 6\n",
            "ñ 0\n",
            "m 7\n",
            "n 12\n",
            "o 22\n",
            "p 7\n",
            "q 1\n",
            "r 23\n",
            "s 22\n",
            "t 23\n",
            "u 9\n",
            "v 0\n",
            "w 0\n",
            "x 1\n",
            "y 3\n",
            "z 2\n"
          ]
        }
      ]
    },
    {
      "cell_type": "code",
      "source": [
        "#  este resultado lo almacenamos en un dataframe\n",
        "# para crear antes el dataframe debemos importar la libreria pandas\n",
        "import pandas as pd\n",
        "# ahora creamos el dataframe e imprimimos  en forma detabla en columna\n",
        "df = pd.DataFrame(contador.values(), index=contador.keys(), columns=['Frecuencia'])\n",
        "print(df)\n",
        "\n"
      ],
      "metadata": {
        "colab": {
          "base_uri": "https://localhost:8080/"
        },
        "id": "grZWrfFLMrZV",
        "outputId": "8c35d258-08b8-4aa6-c714-2ba4269c411d"
      },
      "execution_count": 88,
      "outputs": [
        {
          "output_type": "stream",
          "name": "stdout",
          "text": [
            "   Frecuencia\n",
            "a          29\n",
            "b           1\n",
            "c          18\n",
            "d          11\n",
            "e          22\n",
            "f           3\n",
            "g           1\n",
            "h           0\n",
            "i          22\n",
            "j           0\n",
            "k           0\n",
            "l           6\n",
            "ñ           0\n",
            "m           7\n",
            "n          12\n",
            "o          22\n",
            "p           7\n",
            "q           1\n",
            "r          23\n",
            "s          22\n",
            "t          23\n",
            "u           9\n",
            "v           0\n",
            "w           0\n",
            "x           1\n",
            "y           3\n",
            "z           2\n"
          ]
        }
      ]
    },
    {
      "cell_type": "code",
      "source": [
        "# ahora crearemos un grafico de barras para la base de datos anterior\n",
        "# primero debemos importar la libria matplotlib.pyplot y tambien string\n",
        "import matplotlib.pyplot as plt\n",
        "import string\n",
        "plt.style.use('ggplot')\n",
        "plt.figure(figsize=(10,10))\n",
        "df.plot(kind='bar', legend=False)\n",
        "plt.xlabel('Letras')\n",
        "plt.ylabel('Frecuencia')\n",
        "plt.title('Frecuencia de letras en el texto')\n",
        "plt.xticks(rotation=0)\n",
        "plt.show()\n",
        "\n"
      ],
      "metadata": {
        "colab": {
          "base_uri": "https://localhost:8080/",
          "height": 494
        },
        "id": "eSWrvT_6WZMW",
        "outputId": "9f033488-dcb8-40b4-88d7-0f2afca4ac04"
      },
      "execution_count": 89,
      "outputs": [
        {
          "output_type": "display_data",
          "data": {
            "text/plain": [
              "<Figure size 1000x1000 with 0 Axes>"
            ]
          },
          "metadata": {}
        },
        {
          "output_type": "display_data",
          "data": {
            "text/plain": [
              "<Figure size 640x480 with 1 Axes>"
            ],
            "image/png": "[encoded data removed]"
          },
          "metadata": {}
        }
      ]
    },
    {
      "cell_type": "code",
      "source": [
        "# crearemos un gráfico de pastel para la base de datos creada anteriormente\n",
        "plt.figure(figsize=(100, 100))\n",
        "df.plot(kind='pie', y='Frecuencia', autopct='%1.1f%%', legend=False)\n",
        "plt.title('Frecuencia de letras en el párrafo')\n",
        "plt.show()"
      ],
      "metadata": {
        "colab": {
          "base_uri": "https://localhost:8080/",
          "height": 447
        },
        "id": "L_AK8IjqaMwv",
        "outputId": "39fd1238-2393-438b-ac84-f4772e8f18c2"
      },
      "execution_count": 99,
      "outputs": [
        {
          "output_type": "display_data",
          "data": {
            "text/plain": [
              "<Figure size 10000x10000 with 0 Axes>"
            ]
          },
          "metadata": {}
        },
        {
          "output_type": "display_data",
          "data": {
            "text/plain": [
              "<Figure size 640x480 with 1 Axes>"
            ],
            "image/png": "[encoded data removed]"
          },
          "metadata": {}
        }
      ]
    },
    {
      "cell_type": "code",
      "source": [],
      "metadata": {
        "id": "VuQCgmrOaMUt"
      },
      "execution_count": null,
      "outputs": []
    }
  ]
}